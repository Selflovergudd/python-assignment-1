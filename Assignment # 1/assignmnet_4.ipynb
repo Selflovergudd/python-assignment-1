{
 "cells": [
  {
   "cell_type": "code",
   "execution_count": 1,
   "metadata": {},
   "outputs": [
    {
     "name": "stdout",
     "output_type": "stream",
     "text": [
      "Twinkle, twinkle, little star,\n",
      "\tHow I wonder what you are!\n",
      "\t\tUp above the world so high,\n",
      "\t\tLike a Diamond in the sky.\n",
      "Twinkle, twinkle, little star,\n",
      "\tHow I wonder what you are.\n"
     ]
    }
   ],
   "source": [
    "print(\"Twinkle, twinkle, little star,\\n\\tHow I wonder what you are!\\n\\t\\tUp above the world so high,\\n\\t\\tLike a Diamond in the sky.\\nTwinkle, twinkle, little star,\\n\\tHow I wonder what you are.\")"
   ]
  },
  {
   "cell_type": "code",
   "execution_count": 3,
   "metadata": {},
   "outputs": [
    {
     "name": "stdout",
     "output_type": "stream",
     "text": [
      "Installed Version of Python Is:  3.10.0 (tags/v3.10.0:b494f59, Oct  4 2021, 19:00:18) [MSC v.1929 64 bit (AMD64)]\n"
     ]
    }
   ],
   "source": [
    "import sys\n",
    "\n",
    "print(\"Installed Version of Python Is: \",sys.version)"
   ]
  },
  {
   "cell_type": "code",
   "execution_count": 4,
   "metadata": {},
   "outputs": [
    {
     "name": "stdout",
     "output_type": "stream",
     "text": [
      "Current Date and Time:  2021-10-23 09:37:41.677907\n"
     ]
    }
   ],
   "source": [
    "import datetime\n",
    "\n",
    "print(\"Current Date and Time: \",datetime.datetime.now())"
   ]
  },
  {
   "cell_type": "code",
   "execution_count": 44,
   "metadata": {},
   "outputs": [
    {
     "name": "stdout",
     "output_type": "stream",
     "text": [
      "Area =  13750\n"
     ]
    }
   ],
   "source": [
    "val = int(input(\"Enter Radius: \"))\n",
    "print(\"Area = \",22*val*val)"
   ]
  },
  {
   "cell_type": "code",
   "execution_count": 47,
   "metadata": {},
   "outputs": [
    {
     "name": "stdout",
     "output_type": "stream",
     "text": [
      "laliB nahK\n"
     ]
    }
   ],
   "source": [
    "firstName = input('Enter First Name: ')\n",
    "lastName = input('Enter Last Name: ')\n",
    "print(firstName[::-1]+\" \"+lastName[::-1])"
   ]
  },
  {
   "cell_type": "code",
   "execution_count": 1,
   "metadata": {},
   "outputs": [
    {
     "name": "stdout",
     "output_type": "stream",
     "text": [
      "Addition:  60\n"
     ]
    }
   ],
   "source": [
    "a = int(input(\"Enter First Number: \"))\n",
    "b = int(input(\"Enter Second Number: \"))\n",
    "print(\"Addition: \",a+b)"
   ]
  },
  {
   "cell_type": "code",
   "execution_count": 8,
   "metadata": {},
   "outputs": [
    {
     "name": "stdout",
     "output_type": "stream",
     "text": [
      "----------------------------------------\n",
      "| Subject | Obtained Marks      |\n",
      "| English | 60 |\n",
      "| Urdu    | 70   |\n",
      "| Maths   | 80    |\n",
      "| Physics |  90 |\n",
      "|Computer | 87 |\n",
      "----------------------------------------\n",
      "| Obtained Marks | 387 |\n",
      "----------------------------------------\n",
      "Percentage:  77.4 %\n",
      "Grade: A\n"
     ]
    }
   ],
   "source": [
    "englishMarks = int(input(\"Enter English Marks: \"))\n",
    "urduMarks = int(input(\"Enter Urdu Marks: \"))\n",
    "mathMarks = int(input(\"Enter Mathematics Marks: \"))\n",
    "physicsMark = int(input(\"Enter Physics Marks: \"))\n",
    "computeMarks = int(input(\"Enter Computer Marks: \"))\n",
    "total = 500\n",
    "obtainedMarks = englishMarks+urduMarks+mathMarks+physicsMark+computeMarks\n",
    "\n",
    "print(\"----------------------------------------\")\n",
    "print(\"| Subject | Obtained Marks      |\")\n",
    "print(\"| English |\",int(englishMarks),\"|\")\n",
    "print(\"| Urdu    |\" ,int(urduMarks),\"  |\")\n",
    "print(\"| Maths   |\",int(mathMarks),\"   |\")\n",
    "print(\"| Physics | \",int(physicsMark),\"|\")\n",
    "print(\"|Computer |\",int(computeMarks),\"|\")\n",
    "print(\"----------------------------------------\")\n",
    "print(\"| Obtained Marks |\",int(obtainedMarks),\"|\")\n",
    "print(\"----------------------------------------\")\n",
    "percentage = (obtainedMarks*100)/total\n",
    "castedPercentage = float(percentage)\n",
    "print(\"Percentage: \",castedPercentage,\"%\")\n",
    "if(castedPercentage>=60 and castedPercentage<=69):\n",
    "    print(\"Grade: B\")\n",
    "if(castedPercentage>=70 and castedPercentage<=79):\n",
    "    print(\"Grade: A\")\n",
    "if(castedPercentage>=80 and castedPercentage>80):\n",
    "    print(\"Grade: A1\")\n",
    "if(castedPercentage<60):\n",
    "    print(\"Grade: F\")    "
   ]
  },
  {
   "cell_type": "code",
   "execution_count": 11,
   "metadata": {},
   "outputs": [
    {
     "name": "stdout",
     "output_type": "stream",
     "text": [
      "21  is an Odd Number\n"
     ]
    }
   ],
   "source": [
    "num = int(input(\"Enter a Number: \"))\n",
    "if(num%2==0):\n",
    "    print(int(num),\" is an Even Number: \")\n",
    "else:\n",
    "    print(int(num),\" is an Odd Number\")"
   ]
  },
  {
   "cell_type": "code",
   "execution_count": 32,
   "metadata": {},
   "outputs": [
    {
     "name": "stdout",
     "output_type": "stream",
     "text": [
      "Lenght =  12\n"
     ]
    }
   ],
   "source": [
    "items = [\"text\",\"anothertext\",454,5,True,True,2453,23,25,\"a\",\"b\",\"get\"]\n",
    "count = 0\n",
    "for a in items:\n",
    "    count = count+1\n",
    "print(\"Lenght = \",int(count))    "
   ]
  },
  {
   "cell_type": "code",
   "execution_count": 23,
   "metadata": {},
   "outputs": [
    {
     "name": "stdout",
     "output_type": "stream",
     "text": [
      "Sum =  21\n"
     ]
    }
   ],
   "source": [
    "a = ['1 2 3', '4 5 6', 'invalid']\n",
    "sum = 0\n",
    "for item in a:\n",
    "    for subitem in item.split():\n",
    "        if(subitem.isdigit()):\n",
    "            sum+=int(subitem)\n",
    "print(\"Sum = \",int(sum))"
   ]
  },
  {
   "cell_type": "code",
   "execution_count": 26,
   "metadata": {},
   "outputs": [
    {
     "name": "stdout",
     "output_type": "stream",
     "text": [
      "Largest Number in the List is:  6283\n"
     ]
    }
   ],
   "source": [
    "numList = [321,252,3451,23,654,6283,5,5,632,524,56]\n",
    "numList.sort()\n",
    "print(\"Largest Number in the List is: \",numList[-1])"
   ]
  },
  {
   "cell_type": "code",
   "execution_count": 29,
   "metadata": {},
   "outputs": [
    {
     "name": "stdout",
     "output_type": "stream",
     "text": [
      "1\n",
      "1\n",
      "2\n",
      "3\n"
     ]
    }
   ],
   "source": [
    "a = [1,1,2,3,5,8,13,21,34,55,89]\n",
    "for x in a:\n",
    "    if(x<5):\n",
    "        print(x)"
   ]
  }
 ],
 "metadata": {
  "interpreter": {
   "hash": "529980b512f66751a19d9a50ccade1473017b1fca211a22472abe21d303853c4"
  },
  "kernelspec": {
   "display_name": "Python 3.10.0 64-bit",
   "name": "python3"
  },
  "language_info": {
   "codemirror_mode": {
    "name": "ipython",
    "version": 3
   },
   "file_extension": ".py",
   "mimetype": "text/x-python",
   "name": "python",
   "nbconvert_exporter": "python",
   "pygments_lexer": "ipython3",
   "version": "3.10.0"
  },
  "orig_nbformat": 4
 },
 "nbformat": 4,
 "nbformat_minor": 2
}
